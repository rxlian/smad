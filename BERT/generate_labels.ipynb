{
 "cells": [
  {
   "cell_type": "code",
   "execution_count": null,
   "metadata": {},
   "outputs": [],
   "source": [
    "from transformers import pipeline, BertTokenizer, BertForSequenceClassification\n",
    "import torch\n",
    "import pandas as pd"
   ]
  },
  {
   "cell_type": "code",
   "execution_count": null,
   "metadata": {},
   "outputs": [],
   "source": [
    "device = torch.device('cuda') if torch.cuda.is_available() else torch.device('cpu')"
   ]
  },
  {
   "cell_type": "code",
   "execution_count": null,
   "metadata": {},
   "outputs": [],
   "source": [
    "tokenizer = BertTokenizer.from_pretrained('models/round3/finetune_bert_distrust_under', do_lower_case = True)\n",
    "model = BertForSequenceClassification.from_pretrained('models/round3/finetune_bert_distrust_under')"
   ]
  },
  {
   "cell_type": "code",
   "execution_count": null,
   "metadata": {},
   "outputs": [],
   "source": [
    "nlp = pipeline(\"sentiment-analysis\", model = model, tokenizer = tokenizer, device = 0)"
   ]
  },
  {
   "cell_type": "code",
   "execution_count": null,
   "metadata": {},
   "outputs": [],
   "source": [
    "# df = pd.read_csv('data/predict.csv')"
   ]
  },
  {
   "cell_type": "code",
   "execution_count": null,
   "metadata": {},
   "outputs": [],
   "source": [
    "pred = pd.read_csv('round3/distrust_to_predict.csv')\n",
    "# df = pd.read_csv('data/fact.csv')\n",
    "# idList = df['Id'].tolist()\n",
    "# removed = pred[~pred['Id'].isin(idList)].reset_index(drop = True)"
   ]
  },
  {
   "cell_type": "code",
   "execution_count": null,
   "metadata": {},
   "outputs": [],
   "source": [
    "pred.columns"
   ]
  },
  {
   "cell_type": "code",
   "execution_count": null,
   "metadata": {},
   "outputs": [],
   "source": [
    "# #remove URL\n",
    "# removed['tweet_proc'] = removed['text'].str.replace(r'http(\\S)+', r'')\n",
    "# removed['tweet_proc'] = removed['tweet_proc'].str.replace(r'http ...', r'')\n",
    "# removed['tweet_proc'] = removed['tweet_proc'].str.replace(r'http', r'')\n",
    "# # df[df['tweet_proc'].str.contains(r'http', na = False)]\n",
    "\n",
    "# # remove RT, @\n",
    "# removed['tweet_proc'] = removed['tweet_proc'].str.replace(r'(RT|rt)[ ]*@[ ]*[\\S]+',r'')\n",
    "# # df[df['tweet_proc'].str.contains(r'RT[ ]?@', na = False)]\n",
    "# removed['tweet_proc'] = removed['tweet_proc'].str.replace(r'@[\\S]+',r'')\n",
    "\n",
    "# # remove extra space\n",
    "# removed['tweet_proc'] = removed['tweet_proc'].str.replace(r'[ ]{2, }',r' ')\n",
    "\n",
    "# # strip white spaces at both ends\n",
    "# removed['tweet_proc'] = removed['tweet_proc'].str.strip()\n",
    "\n",
    "# #remove non-ascii words and characters\n",
    "# removed['tweet_proc'] = [''.join([i if ord(i) < 128 else '' for i in text]) for text in removed['tweet_proc']]\n",
    "# removed['tweet_proc'] = removed['tweet_proc'].str.replace(r'_[\\S]?',r'')"
   ]
  },
  {
   "cell_type": "code",
   "execution_count": null,
   "metadata": {},
   "outputs": [],
   "source": [
    "# df = pd.read_csv('data/new_predict.csv')"
   ]
  },
  {
   "cell_type": "code",
   "execution_count": 6,
   "metadata": {},
   "outputs": [],
   "source": [
    "label = []\n",
    "score = []\n",
    "for text in pred['plain_text_py'].tolist():\n",
    "    predict = nlp(text)[0]\n",
    "    binary_label = predict['label']\n",
    "    label.append(binary_label)\n",
    "    pred_score = predict['score']\n",
    "    score.append(pred_score)"
   ]
  },
  {
   "cell_type": "code",
   "execution_count": 7,
   "metadata": {},
   "outputs": [],
   "source": [
    "pred['label'] = label\n",
    "pred['label'] = pred['label'].map({'LABEL_1': 1, 'LABEL_0': 0})\n",
    "pred['score'] = score\n",
    "# removed.drop(['tweet_proc'], axis = 1, inplace = True)"
   ]
  },
  {
   "cell_type": "code",
   "execution_count": null,
   "metadata": {},
   "outputs": [],
   "source": [
    "pred"
   ]
  },
  {
   "cell_type": "code",
   "execution_count": 8,
   "metadata": {},
   "outputs": [],
   "source": [
    "pred.to_csv('round3/pred/distrust.csv', index = False)"
   ]
  },
  {
   "cell_type": "code",
   "execution_count": null,
   "metadata": {},
   "outputs": [],
   "source": []
  }
 ],
 "metadata": {
  "kernelspec": {
   "display_name": "Python 3",
   "language": "python",
   "name": "python3"
  },
  "language_info": {
   "codemirror_mode": {
    "name": "ipython",
    "version": 3
   },
   "file_extension": ".py",
   "mimetype": "text/x-python",
   "name": "python",
   "nbconvert_exporter": "python",
   "pygments_lexer": "ipython3",
   "version": "3.7.4"
  }
 },
 "nbformat": 4,
 "nbformat_minor": 2
}
