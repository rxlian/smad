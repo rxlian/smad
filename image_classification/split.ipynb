{
 "cells": [
  {
   "cell_type": "code",
   "execution_count": 14,
   "id": "be62dfec",
   "metadata": {},
   "outputs": [],
   "source": [
    "import os\n",
    "from sklearn.model_selection import train_test_split\n",
    "\n",
    "name='cartoon_frog/'\n",
    "# Path to the folder containing the images\n",
    "folder_path = 'data_v2/'+name\n",
    "\n",
    "# Get a list of all image file names in the folder\n",
    "image_files = [file for file in os.listdir(folder_path) if file.endswith(\".jpg\") or file.endswith(\".png\")]\n",
    "\n",
    "# Split the image files into training and testing sets\n",
    "train_files, test_files = train_test_split(image_files, test_size=0.1, random_state=42)\n",
    "train_files, valid_files = train_test_split(train_files, test_size=0.1, random_state=42)\n",
    "\n",
    "# Move the training images to a new folder\n",
    "train_folder = \"data_v2/train/\"+name\n",
    "os.makedirs(train_folder, exist_ok=True)\n",
    "for file in train_files:\n",
    "    src = os.path.join(folder_path, file)\n",
    "    dst = os.path.join(train_folder, file)\n",
    "    os.rename(src, dst)\n",
    "\n",
    "valid_folder = \"data_v2/valid/\"+name\n",
    "os.makedirs(valid_folder, exist_ok=True)\n",
    "for file in valid_files:\n",
    "    src = os.path.join(folder_path, file)\n",
    "    dst = os.path.join(valid_folder, file)\n",
    "    os.rename(src, dst)\n",
    "    \n",
    "# Move the testing images to a new folder\n",
    "test_folder = \"data_v2/test/\"+name\n",
    "os.makedirs(test_folder, exist_ok=True)\n",
    "for file in test_files:\n",
    "    src = os.path.join(folder_path, file)\n",
    "    dst = os.path.join(test_folder, file)\n",
    "    os.rename(src, dst)\n"
   ]
  },
  {
   "cell_type": "code",
   "execution_count": null,
   "id": "30d32be8",
   "metadata": {},
   "outputs": [],
   "source": []
  }
 ],
 "metadata": {
  "kernelspec": {
   "display_name": "Python 3 (ipykernel)",
   "language": "python",
   "name": "python3"
  },
  "language_info": {
   "codemirror_mode": {
    "name": "ipython",
    "version": 3
   },
   "file_extension": ".py",
   "mimetype": "text/x-python",
   "name": "python",
   "nbconvert_exporter": "python",
   "pygments_lexer": "ipython3",
   "version": "3.7.15"
  }
 },
 "nbformat": 4,
 "nbformat_minor": 5
}
