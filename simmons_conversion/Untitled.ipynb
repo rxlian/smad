{
 "cells": [
  {
   "cell_type": "code",
   "execution_count": 1,
   "metadata": {},
   "outputs": [],
   "source": [
    "import json"
   ]
  },
  {
   "cell_type": "code",
   "execution_count": 46,
   "metadata": {},
   "outputs": [],
   "source": [
    "with open('names.txt', 'r') as f:\n",
    "    names = f.readlines()\n",
    "\n",
    "names = [name.strip('\\n') for name in names]"
   ]
  },
  {
   "cell_type": "code",
   "execution_count": 49,
   "metadata": {},
   "outputs": [
    {
     "data": {
      "text/plain": [
       "'HouseholdProductsFoodproductsPeanutButterOtherNutSpre'"
      ]
     },
     "execution_count": 49,
     "metadata": {},
     "output_type": "execute_result"
    }
   ],
   "source": [
    "lines[0]"
   ]
  },
  {
   "cell_type": "code",
   "execution_count": 60,
   "metadata": {},
   "outputs": [],
   "source": [
    "with open('all_mri_codebook.txt', 'r') as f:\n",
    "    lines = f.readlines()\n",
    "\n",
    "k, v = [], []\n",
    "\n",
    "for i in range(0,len(lines)-1,1):\n",
    "    k.append(lines[i+1].strip('\\n'))\n",
    "    v.append(lines[i].strip('\\n').encode().decode('unicode_escape'))\n",
    "\n",
    "    "
   ]
  },
  {
   "cell_type": "code",
   "execution_count": 123,
   "metadata": {},
   "outputs": [],
   "source": [
    "cnt=1\n",
    "for name in names:\n",
    "    \n",
    "    idx = 0+2*cnt\n",
    "    f = open('suc.txt', 'a')\n",
    "    f2=open('fail.txt','a')\n",
    "    try:\n",
    "        b = json.loads(v[idx])\n",
    "        print(name.replace(\"''\", ''), file=f)\n",
    "\n",
    "        length=0\n",
    "        for key,value in b.items():\n",
    "            if length < len(b)-1:\n",
    "                print(str(value)+' '+'\"'+str(key)+'\"', file=f)\n",
    "                length += 1\n",
    "            else:\n",
    "                print(str(value)+' '+'\"'+str(key)+'\"/', file=f)\n",
    "        cnt += 1\n",
    "        \n",
    "    except json.decoder.JSONDecodeError:\n",
    "        print(str(idx)+' '+name.replace(\"''\", ''), file=f2)\n",
    "        cnt += 1\n",
    "        continue\n",
    "        \n",
    "    "
   ]
  },
  {
   "cell_type": "code",
   "execution_count": 224,
   "metadata": {},
   "outputs": [
    {
     "data": {
      "text/plain": [
       "'{\"A&E: Duck Dynasty\": 1, \"A&E: The First 48\": 2, \"Adult Swim: American Dad\": 3, \"CNN: Anderson Cooper 360°\": 4, \"A&E: Storage Wars\": 5, \"CNBC: Shark Tank\": 6, \"AMC: The Walking Dead\": 7, \"Adult Swim: Family Guy\": 8, \"A&E: Bates Motel\": 9, \"Food Network: Chopped\": 10, \"Discovery Channel: Alaskan Bush People\": 11, \"AMC: Better Call Saul\": 12, \"Animal Planet: River Monsters\": 13, \"Fox News Channel: The Five\": 14, \"ESPN: NFL Live\": 15, \"ESPN: College Football Live\": 16, \"Animal Planet: Finding Bigfoot\": 17, \"Food Network: Diners, Drive-ins and Dives\": 18, \"History Channel: American Pickers\": 19, \"A&E: Wahlburgers\": 20, \"Animal Planet: My Cat From Hell\": 21, \"AMC: Talking Dead\": 22, \"Animal Planet: Pit Bulls & Parolees\": 23, \"AMC: #Fear the Walking Dead\": 24, \"Comedy Central: The Daily Show\": 25, \"ESPN: #SportsCenter\": 26, \"HGTV (Home & Garden Television): Flip or Flop\": 27, \"ESPN: Around The Horn\": 28, \"HGTV (Home & Garden Television): #Fixer Upper\": 29, \"CNN: Anthony Bourdain \"Parts Unknown\"\": 30, \"Discovery Channel: Deadliest Catch\": 31, \"CNBC: Fast Money\": 32, \"Bravo: #The Real Housewives of Atlanta\": 33, \"ION: Blue Bloods\": 34, \"Discovery Channel: Fast N\\' Loud\": 35, \"Animal Planet: Tanked\": 36, \"E! (Entertainment Television): E! News\": 37, \"CNN: New Day\": 38, \"HGTV (Home & Garden Television): House Hunters\": 39, \"TBS: The Big Bang Theory\": 40, \"Discovery Channel: Naked & Afraid\": 41, \"Fox News Channel: Fox and Friends\": 42, \"Bravo: #Top Chef\": 43, \"CNBC: The Profit\": 44, \"History Channel: Pawn Stars\": 45, \"E! (Entertainment Television): Keeping up with the Kardashians\": 46, \"Bravo: #The Real Housewives of Beverly Hills\": 47, \"CNBC: Squawk Box\": 48, \"Bravo: Watch What Happens Live\": 49, \"ION: Criminal Minds\": 50, \"Fox News Channel: Hannity\": 51, \"Bravo: #Girlfriends\\' Guide to Divorce\": 52, \"Adult Swim: Robot Chicken\": 53, \"Adult Swim: Mike Tyson Mysteries\": 54, \"Adult Swim: Rick & Morty\": 55, \"A&E: #Unforgettable\": 56, \"TNT: Major Crimes\": 57, \"Fox News Channel: The O\\'Reilly Factor\": 58, \"CNN: CNN Films\": 59, \"ESPN: PTI (Pardon The Interruption)\": 60, \"Fox News Channel: The Kelly File\": 61, \"HGTV (Home & Garden Television): Property Brothers\": 62, \"AMC: #Into the Badlands\": 63, \"History Channel: The Vikings\": 64, \"Freeform: The Fosters\": 65, \"The Weather Channel: Wake Up with Al\": 66, \"HGTV (Home & Garden Television): Love It or List It\": 67, \"Nickelodeon: Dora the Explorer\": 68, \"Freeform: Pretty Little Liars\": 69, \"Food Network: Cutthroat Kitchen\": 70, \"History Channel: Swamp People\": 71, \"Comedy Central: Workaholics\": 72, \"Food Network: Restaurant Impossible\": 73, \"Discovery Channel: Street Outlaws\": 74, \"ESPN2: First Take\": 75, \"FX: FX Prime Movie\": 76, \"TNT: Rizzoli & Isles\": 77, \"FX: American Horror Story\": 78, \"ESPN2: Mike & Mike In The Morning\": 79, \"Nickelodeon: SpongeBob SquarePants\": 80, \"Comedy Central: Broad City\": 81, \"Lifetime: Bring It\": 82, \"CNBC: #Mad Money\": 83, \"E! (Entertainment Television): Fashion Police\": 84, \"Nickelodeon: Paw Patrol\": 85, \"Comedy Central: #Inside Amy Schumer\": 86, \"Lifetime: Project Runway\": 87, \"Freeform: #Baby Daddy\": 88, \"Freeform: Young & Hungry\": 89, \"Freeform: Switched at Birth\": 90, \"USA Network: Modern Family\": 91, \"ESPN2: SportsNation\": 92, \"USA Network: WWE Raw\": 93, \"History Channel: #The Curse of Oak Island\": 94, \"E! (Entertainment Television): The Royals\": 95, \"MTV (Music Television): Teen Mom\": 96, \"ION: #Law & Order: Special Victims Unit\": 97, \"The Weather Channel: AMHQ with Sam Champion\": 98, \"Syfy: WWE SmackDown\": 99, \"TBS: Family Guy\": 100, \"ION: ION Movies\": 101, \"FX: The Americans\": 102, \"Comedy Central: The Nightly Show with Larry Wilmore\": 103, \"Lifetime: Dance Moms\": 104, \"Spike TV: Bar Rescue\": 105, \"Spike TV: Lip Sync Battle\": 106, \"USA Network: Suits\": 107, \"HLN: Nancy Grace\": 108, \"CNN: Inside Man\": 109, \"Lifetime: Devious Maids\": 110, \"TLC: Little Couple\": 111, \"MTV (Music Television): Awkward\": 112, \"Syfy: Face Off\": 113, \"TLC: Long Island Medium\": 114, \"truTV: Impractical Jokers\": 115, \"E! (Entertainment Television): The Soup\": 116, \"MTV (Music Television): Teen Wolf\": 117, \"Syfy: #The Expanse\": 118, \"Lifetime: Unreal\": 119, \"FX: #Fargo\": 120, \"TBS: Conan\": 121, \"The Weather Channel: Fat Guys in the Woods\": 122, \"HLN: Morning Express w/Robin Meade\": 123, \"TBS: #Angie Tribeca\": 124, \"TNT: #The Last Ship\": 125, \"Food Network: Guy\\'s Grocery Games\": 126, \"USA Network: Chrisley Knows Best\": 127, \"Syfy: #The Magicians\": 128, \"Spike TV: Ink Master\": 129, \"Nickelodeon: #Bella and The Bulldogs\": 130, \"truTV: The Carbonaro Effect\": 131, \"HLN: Issues With Jane Velez-Mitchell\": 132, \"Nickelodeon: Teenage Mutant Ninja Turtles\": 133, \"Syfy: Z Nation\": 134, \"TBS: #American Dad Originals\": 135, \"The Weather Channel: Prospectors\": 136, \"MTV (Music Television): The Challenge\": 137, \"truTV: Hardcore Pawn\": 138, \"ESPN2: His & Hers\": 139, \"TLC: #Love, Lust or Run\": 140, \"MTV (Music Television): Real World\": 141}'"
      ]
     },
     "execution_count": 224,
     "metadata": {},
     "output_type": "execute_result"
    }
   ],
   "source": [
    "import re\n",
    "a = v[1142]\n",
    "a.replace('\\\\', '')\n",
    "# print(name.replace(\"''\", ''), file=f)\n",
    "\n",
    "# length=0\n",
    "# for key,value in b.items():\n",
    "#     if length < len(b)-1:\n",
    "#         print(str(value)+' '+'\"'+str(key)+'\"', file=f)\n",
    "#         length += 1\n",
    "#     else:\n",
    "#         print(str(value)+' '+'\"'+str(key)+'\"/', file=f)\n",
    "# cnt += 1"
   ]
  },
  {
   "cell_type": "code",
   "execution_count": 214,
   "metadata": {},
   "outputs": [
    {
     "ename": "SyntaxError",
     "evalue": "invalid syntax (<ipython-input-214-7db60d14e79e>, line 1)",
     "output_type": "error",
     "traceback": [
      "\u001b[0;36m  File \u001b[0;32m\"<ipython-input-214-7db60d14e79e>\"\u001b[0;36m, line \u001b[0;32m1\u001b[0m\n\u001b[0;31m    cc = {\"A&E: Duck Dynasty\": 1, \"A&E: The First 48\": 2, \"Adult Swim: American Dad\": 3, \"CNN: Anderson Cooper 360°\": 4, \"A&E: Storage Wars\": 5, \"CNBC: Shark Tank\": 6, \"AMC: The Walking Dead\": 7, \"Adult Swim: Family Guy\": 8, \"A&E: Bates Motel\": 9, \"Food Network: Chopped\": 10, \"Discovery Channel: Alaskan Bush People\": 11, \"AMC: Better Call Saul\": 12, \"Animal Planet: River Monsters\": 13, \"Fox News Channel: The Five\": 14, \"ESPN: NFL Live\": 15, \"ESPN: College Football Live\": 16, \"Animal Planet: Finding Bigfoot\": 17, \"Food Network: Diners, Drive-ins and Dives\": 18, \"History Channel: American Pickers\": 19, \"A&E: Wahlburgers\": 20, \"Animal Planet: My Cat From Hell\": 21, \"AMC: Talking Dead\": 22, \"Animal Planet: Pit Bulls & Parolees\": 23, \"AMC: #Fear the Walking Dead\": 24, \"Comedy Central: The Daily Show\": 25, \"ESPN: #SportsCenter\": 26, \"HGTV (Home & Garden Television): Flip or Flop\": 27, \"ESPN: Around The Horn\": 28, \"HGTV (Home & Garden Television): #Fixer Upper\": 29, \"CNN: Anthony Bourdain \"Parts Unknown\"\": 30, \"Discovery Channel: Deadliest Catch\": 31, \"CNBC: Fast Money\": 32, \"Bravo: #The Real Housewives of Atlanta\": 33, \"ION: Blue Bloods\": 34, \"Discovery Channel: Fast N\\' Loud\": 35, \"Animal Planet: Tanked\": 36, \"E! (Entertainment Television): E! News\": 37, \"CNN: New Day\": 38, \"HGTV (Home & Garden Television): House Hunters\": 39, \"TBS: The Big Bang Theory\": 40, \"Discovery Channel: Naked & Afraid\": 41, \"Fox News Channel: Fox and Friends\": 42, \"Bravo: #Top Chef\": 43, \"CNBC: The Profit\": 44, \"History Channel: Pawn Stars\": 45, \"E! (Entertainment Television): Keeping up with the Kardashians\": 46, \"Bravo: #The Real Housewives of Beverly Hills\": 47, \"CNBC: Squawk Box\": 48, \"Bravo: Watch What Happens Live\": 49, \"ION: Criminal Minds\": 50, \"Fox News Channel: Hannity\": 51, \"Bravo: #Girlfriends\\' Guide to Divorce\": 52, \"Adult Swim: Robot Chicken\": 53, \"Adult Swim: Mike Tyson Mysteries\": 54, \"Adult Swim: Rick & Morty\": 55, \"A&E: #Unforgettable\": 56, \"TNT: Major Crimes\": 57, \"Fox News Channel: The O\\'Reilly Factor\": 58, \"CNN: CNN Films\": 59, \"ESPN: PTI (Pardon The Interruption)\": 60, \"Fox News Channel: The Kelly File\": 61, \"HGTV (Home & Garden Television): Property Brothers\": 62, \"AMC: #Into the Badlands\": 63, \"History Channel: The Vikings\": 64, \"Freeform: The Fosters\": 65, \"The Weather Channel: Wake Up with Al\": 66, \"HGTV (Home & Garden Television): Love It or List It\": 67, \"Nickelodeon: Dora the Explorer\": 68, \"Freeform: Pretty Little Liars\": 69, \"Food Network: Cutthroat Kitchen\": 70, \"History Channel: Swamp People\": 71, \"Comedy Central: Workaholics\": 72, \"Food Network: Restaurant Impossible\": 73, \"Discovery Channel: Street Outlaws\": 74, \"ESPN2: First Take\": 75, \"FX: FX Prime Movie\": 76, \"TNT: Rizzoli & Isles\": 77, \"FX: American Horror Story\": 78, \"ESPN2: Mike & Mike In The Morning\": 79, \"Nickelodeon: SpongeBob SquarePants\": 80, \"Comedy Central: Broad City\": 81, \"Lifetime: Bring It\": 82, \"CNBC: #Mad Money\": 83, \"E! (Entertainment Television): Fashion Police\": 84, \"Nickelodeon: Paw Patrol\": 85, \"Comedy Central: #Inside Amy Schumer\": 86, \"Lifetime: Project Runway\": 87, \"Freeform: #Baby Daddy\": 88, \"Freeform: Young & Hungry\": 89, \"Freeform: Switched at Birth\": 90, \"USA Network: Modern Family\": 91, \"ESPN2: SportsNation\": 92, \"USA Network: WWE Raw\": 93, \"History Channel: #The Curse of Oak Island\": 94, \"E! (Entertainment Television): The Royals\": 95, \"MTV (Music Television): Teen Mom\": 96, \"ION: #Law & Order: Special Victims Unit\": 97, \"The Weather Channel: AMHQ with Sam Champion\": 98, \"Syfy: WWE SmackDown\": 99, \"TBS: Family Guy\": 100, \"ION: ION Movies\": 101, \"FX: The Americans\": 102, \"Comedy Central: The Nightly Show with Larry Wilmore\": 103, \"Lifetime: Dance Moms\": 104, \"Spike TV: Bar Rescue\": 105, \"Spike TV: Lip Sync Battle\": 106, \"USA Network: Suits\": 107, \"HLN: Nancy Grace\": 108, \"CNN: Inside Man\": 109, \"Lifetime: Devious Maids\": 110, \"TLC: Little Couple\": 111, \"MTV (Music Television): Awkward\": 112, \"Syfy: Face Off\": 113, \"TLC: Long Island Medium\": 114, \"truTV: Impractical Jokers\": 115, \"E! (Entertainment Television): The Soup\": 116, \"MTV (Music Television): Teen Wolf\": 117, \"Syfy: #The Expanse\": 118, \"Lifetime: Unreal\": 119, \"FX: #Fargo\": 120, \"TBS: Conan\": 121, \"The Weather Channel: Fat Guys in the Woods\": 122, \"HLN: Morning Express w/Robin Meade\": 123, \"TBS: #Angie Tribeca\": 124, \"TNT: #The Last Ship\": 125, \"Food Network: Guy\\'s Grocery Games\": 126, \"USA Network: Chrisley Knows Best\": 127, \"Syfy: #The Magicians\": 128, \"Spike TV: Ink Master\": 129, \"Nickelodeon: #Bella and The Bulldogs\": 130, \"truTV: The Carbonaro Effect\": 131, \"HLN: Issues With Jane Velez-Mitchell\": 132, \"Nickelodeon: Teenage Mutant Ninja Turtles\": 133, \"Syfy: Z Nation\": 134, \"TBS: #American Dad Originals\": 135, \"The Weather Channel: Prospectors\": 136, \"MTV (Music Television): The Challenge\": 137, \"truTV: Hardcore Pawn\": 138, \"ESPN2: His & Hers\": 139}\u001b[0m\n\u001b[0m                                                                                                                                                                                                                                                                                                                                                                                                                                                                                                                                                                                                                                                                                                                                                                                                                                                                                                                                                                                                                                          ^\u001b[0m\n\u001b[0;31mSyntaxError\u001b[0m\u001b[0;31m:\u001b[0m invalid syntax\n"
     ]
    }
   ],
   "source": [
    "cc = {\"A&E: Duck Dynasty\": 1, \"A&E: The First 48\": 2, \"Adult Swim: American Dad\": 3, \"CNN: Anderson Cooper 360°\": 4, \"A&E: Storage Wars\": 5, \"CNBC: Shark Tank\": 6, \"AMC: The Walking Dead\": 7, \"Adult Swim: Family Guy\": 8, \"A&E: Bates Motel\": 9, \"Food Network: Chopped\": 10, \"Discovery Channel: Alaskan Bush People\": 11, \"AMC: Better Call Saul\": 12, \"Animal Planet: River Monsters\": 13, \"Fox News Channel: The Five\": 14, \"ESPN: NFL Live\": 15, \"ESPN: College Football Live\": 16, \"Animal Planet: Finding Bigfoot\": 17, \"Food Network: Diners, Drive-ins and Dives\": 18, \"History Channel: American Pickers\": 19, \"A&E: Wahlburgers\": 20, \"Animal Planet: My Cat From Hell\": 21, \"AMC: Talking Dead\": 22, \"Animal Planet: Pit Bulls & Parolees\": 23, \"AMC: #Fear the Walking Dead\": 24, \"Comedy Central: The Daily Show\": 25, \"ESPN: #SportsCenter\": 26, \"HGTV (Home & Garden Television): Flip or Flop\": 27, \"ESPN: Around The Horn\": 28, \"HGTV (Home & Garden Television): #Fixer Upper\": 29, \"CNN: Anthony Bourdain \"Parts Unknown\"\": 30, \"Discovery Channel: Deadliest Catch\": 31, \"CNBC: Fast Money\": 32, \"Bravo: #The Real Housewives of Atlanta\": 33, \"ION: Blue Bloods\": 34, \"Discovery Channel: Fast N\\' Loud\": 35, \"Animal Planet: Tanked\": 36, \"E! (Entertainment Television): E! News\": 37, \"CNN: New Day\": 38, \"HGTV (Home & Garden Television): House Hunters\": 39, \"TBS: The Big Bang Theory\": 40, \"Discovery Channel: Naked & Afraid\": 41, \"Fox News Channel: Fox and Friends\": 42, \"Bravo: #Top Chef\": 43, \"CNBC: The Profit\": 44, \"History Channel: Pawn Stars\": 45, \"E! (Entertainment Television): Keeping up with the Kardashians\": 46, \"Bravo: #The Real Housewives of Beverly Hills\": 47, \"CNBC: Squawk Box\": 48, \"Bravo: Watch What Happens Live\": 49, \"ION: Criminal Minds\": 50, \"Fox News Channel: Hannity\": 51, \"Bravo: #Girlfriends\\' Guide to Divorce\": 52, \"Adult Swim: Robot Chicken\": 53, \"Adult Swim: Mike Tyson Mysteries\": 54, \"Adult Swim: Rick & Morty\": 55, \"A&E: #Unforgettable\": 56, \"TNT: Major Crimes\": 57, \"Fox News Channel: The O\\'Reilly Factor\": 58, \"CNN: CNN Films\": 59, \"ESPN: PTI (Pardon The Interruption)\": 60, \"Fox News Channel: The Kelly File\": 61, \"HGTV (Home & Garden Television): Property Brothers\": 62, \"AMC: #Into the Badlands\": 63, \"History Channel: The Vikings\": 64, \"Freeform: The Fosters\": 65, \"The Weather Channel: Wake Up with Al\": 66, \"HGTV (Home & Garden Television): Love It or List It\": 67, \"Nickelodeon: Dora the Explorer\": 68, \"Freeform: Pretty Little Liars\": 69, \"Food Network: Cutthroat Kitchen\": 70, \"History Channel: Swamp People\": 71, \"Comedy Central: Workaholics\": 72, \"Food Network: Restaurant Impossible\": 73, \"Discovery Channel: Street Outlaws\": 74, \"ESPN2: First Take\": 75, \"FX: FX Prime Movie\": 76, \"TNT: Rizzoli & Isles\": 77, \"FX: American Horror Story\": 78, \"ESPN2: Mike & Mike In The Morning\": 79, \"Nickelodeon: SpongeBob SquarePants\": 80, \"Comedy Central: Broad City\": 81, \"Lifetime: Bring It\": 82, \"CNBC: #Mad Money\": 83, \"E! (Entertainment Television): Fashion Police\": 84, \"Nickelodeon: Paw Patrol\": 85, \"Comedy Central: #Inside Amy Schumer\": 86, \"Lifetime: Project Runway\": 87, \"Freeform: #Baby Daddy\": 88, \"Freeform: Young & Hungry\": 89, \"Freeform: Switched at Birth\": 90, \"USA Network: Modern Family\": 91, \"ESPN2: SportsNation\": 92, \"USA Network: WWE Raw\": 93, \"History Channel: #The Curse of Oak Island\": 94, \"E! (Entertainment Television): The Royals\": 95, \"MTV (Music Television): Teen Mom\": 96, \"ION: #Law & Order: Special Victims Unit\": 97, \"The Weather Channel: AMHQ with Sam Champion\": 98, \"Syfy: WWE SmackDown\": 99, \"TBS: Family Guy\": 100, \"ION: ION Movies\": 101, \"FX: The Americans\": 102, \"Comedy Central: The Nightly Show with Larry Wilmore\": 103, \"Lifetime: Dance Moms\": 104, \"Spike TV: Bar Rescue\": 105, \"Spike TV: Lip Sync Battle\": 106, \"USA Network: Suits\": 107, \"HLN: Nancy Grace\": 108, \"CNN: Inside Man\": 109, \"Lifetime: Devious Maids\": 110, \"TLC: Little Couple\": 111, \"MTV (Music Television): Awkward\": 112, \"Syfy: Face Off\": 113, \"TLC: Long Island Medium\": 114, \"truTV: Impractical Jokers\": 115, \"E! (Entertainment Television): The Soup\": 116, \"MTV (Music Television): Teen Wolf\": 117, \"Syfy: #The Expanse\": 118, \"Lifetime: Unreal\": 119, \"FX: #Fargo\": 120, \"TBS: Conan\": 121, \"The Weather Channel: Fat Guys in the Woods\": 122, \"HLN: Morning Express w/Robin Meade\": 123, \"TBS: #Angie Tribeca\": 124, \"TNT: #The Last Ship\": 125, \"Food Network: Guy\\'s Grocery Games\": 126, \"USA Network: Chrisley Knows Best\": 127, \"Syfy: #The Magicians\": 128, \"Spike TV: Ink Master\": 129, \"Nickelodeon: #Bella and The Bulldogs\": 130, \"truTV: The Carbonaro Effect\": 131, \"HLN: Issues With Jane Velez-Mitchell\": 132, \"Nickelodeon: Teenage Mutant Ninja Turtles\": 133, \"Syfy: Z Nation\": 134, \"TBS: #American Dad Originals\": 135, \"The Weather Channel: Prospectors\": 136, \"MTV (Music Television): The Challenge\": 137, \"truTV: Hardcore Pawn\": 138, \"ESPN2: His & Hers\": 139, \"TLC: #Love, Lust or Run\": 140, \"MTV (Music Television): Real World\": 141}"
   ]
  },
  {
   "cell_type": "code",
   "execution_count": 96,
   "metadata": {},
   "outputs": [
    {
     "ename": "SyntaxError",
     "evalue": "invalid syntax (<unknown>, line 1)",
     "output_type": "error",
     "traceback": [
      "Traceback \u001b[0;36m(most recent call last)\u001b[0m:\n",
      "  File \u001b[1;32m\"/opt/anaconda3/lib/python3.7/site-packages/IPython/core/interactiveshell.py\"\u001b[0m, line \u001b[1;32m3331\u001b[0m, in \u001b[1;35mrun_code\u001b[0m\n    exec(code_obj, self.user_global_ns, self.user_ns)\n",
      "  File \u001b[1;32m\"<ipython-input-96-80976094b0dd>\"\u001b[0m, line \u001b[1;32m2\u001b[0m, in \u001b[1;35m<module>\u001b[0m\n    ast.literal_eval(v[idx])\n",
      "  File \u001b[1;32m\"/opt/anaconda3/lib/python3.7/ast.py\"\u001b[0m, line \u001b[1;32m46\u001b[0m, in \u001b[1;35mliteral_eval\u001b[0m\n    node_or_string = parse(node_or_string, mode='eval')\n",
      "\u001b[0;36m  File \u001b[0;32m\"/opt/anaconda3/lib/python3.7/ast.py\"\u001b[0;36m, line \u001b[0;32m35\u001b[0;36m, in \u001b[0;35mparse\u001b[0;36m\u001b[0m\n\u001b[0;31m    return compile(source, filename, mode, PyCF_ONLY_AST)\u001b[0m\n",
      "\u001b[0;36m  File \u001b[0;32m\"<unknown>\"\u001b[0;36m, line \u001b[0;32m1\u001b[0m\n\u001b[0;31m    {\"Magazine website\": 1, \"Magazine \"App\" showing a digital magazine\": 2, \"Digital reproduction (such as Zinio, Nook, or Kindle Fire versions)\": 3}\u001b[0m\n\u001b[0m                                         ^\u001b[0m\n\u001b[0;31mSyntaxError\u001b[0m\u001b[0;31m:\u001b[0m invalid syntax\n"
     ]
    }
   ],
   "source": [
    "import ast\n",
    "ast.literal_eval(v[idx])"
   ]
  },
  {
   "cell_type": "code",
   "execution_count": 99,
   "metadata": {},
   "outputs": [
    {
     "data": {
      "text/plain": [
       "'{\\\\\"Magazine website\\\\\": 1, \\\\\"Magazine \\\\\"App\\\\\" showing a digital magazine\\\\\": 2, \\\\\"Digital reproduction (such as Zinio, Nook, or Kindle Fire versions)\\\\\": 3}'"
      ]
     },
     "execution_count": 99,
     "metadata": {},
     "output_type": "execute_result"
    }
   ],
   "source": [
    "v[idx].replace('\"', '\\\\\"')"
   ]
  },
  {
   "cell_type": "code",
   "execution_count": 108,
   "metadata": {},
   "outputs": [
    {
     "data": {
      "text/plain": [
       "328"
      ]
     },
     "execution_count": 108,
     "metadata": {},
     "output_type": "execute_result"
    }
   ],
   "source": [
    "idx"
   ]
  },
  {
   "cell_type": "code",
   "execution_count": null,
   "metadata": {},
   "outputs": [],
   "source": []
  }
 ],
 "metadata": {
  "kernelspec": {
   "display_name": "Python 3",
   "language": "python",
   "name": "python3"
  },
  "language_info": {
   "codemirror_mode": {
    "name": "ipython",
    "version": 3
   },
   "file_extension": ".py",
   "mimetype": "text/x-python",
   "name": "python",
   "nbconvert_exporter": "python",
   "pygments_lexer": "ipython3",
   "version": "3.7.6"
  }
 },
 "nbformat": 4,
 "nbformat_minor": 4
}
