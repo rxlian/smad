{
 "cells": [
  {
   "cell_type": "code",
   "execution_count": 48,
   "metadata": {},
   "outputs": [],
   "source": [
    "import pandas as pd"
   ]
  },
  {
   "cell_type": "code",
   "execution_count": 49,
   "metadata": {},
   "outputs": [],
   "source": [
    "df = pd.read_csv(\"csv/second_version.csv\")\n",
    "code = pd.read_csv(\"csv/code.csv\")"
   ]
  },
  {
   "cell_type": "code",
   "execution_count": 51,
   "metadata": {},
   "outputs": [
    {
     "data": {
      "text/plain": [
       "Index(['California', 'Texas', 'New York', 'Illinois', 'Florida',\n",
       "       'Pennsylvania', 'New Jersey', 'Georgia',\n",
       "       'North Carolina/South Carolina',\n",
       "       'Delaware/Maryland/Washington, D.C./West Virginia', 'Massachusetts',\n",
       "       'Virginia', 'New Mexico/Arizona/Utah/Nevada', 'Ohio',\n",
       "       'Montana/Idaho/Wyoming/Colorado', 'Arkansas/Louisiana/Oklahoma',\n",
       "       'Michigan', 'Washington/Oregon', 'Minnesota/Iowa', 'Indiana',\n",
       "       'Alabama/Mississippi', 'Tennessee', 'Rhode Island/Connecticut',\n",
       "       'Nebraska/Kansas', 'Wisconsin', 'Missouri',\n",
       "       'Maine/New Hampshire/Vermont', 'Kentucky', 'North Dakota/South Dakota'],\n",
       "      dtype='object')"
      ]
     },
     "execution_count": 51,
     "metadata": {},
     "output_type": "execute_result"
    }
   ],
   "source": [
    "df['State Group Codes'].value_counts().keys()"
   ]
  },
  {
   "cell_type": "code",
   "execution_count": 52,
   "metadata": {},
   "outputs": [],
   "source": [
    "age = {\n",
    "    '18': 1,\n",
    "    '19': 1,\n",
    "    '20': 1,\n",
    "    '21': 1,\n",
    "    '22-24': 1,\n",
    "    '25-29': 2,\n",
    "    '30-34': 2,\n",
    "    '35-39': 3,\n",
    "    '40-44': 3,\n",
    "    '45-49': 4,\n",
    "    '50-54': 4,\n",
    "    '55-59': 5,\n",
    "    '60-64': 5,\n",
    "    '65-69': 6,\n",
    "    '70-74': 6,\n",
    "    '75+': 6\n",
    "}\n",
    "\n",
    "race = {\n",
    "    'White': 1,\n",
    "    'Black/African American': 2,\n",
    "    'American Indian or Alaska Native': 3,\n",
    "    'Asian': 4,\n",
    "    'Other': 5,\n",
    "}\n",
    "\n",
    "income = {\n",
    "    '0-4999': 1,\n",
    "    '5000-9999': 2,\n",
    "    '10000-14999': 3,\n",
    "    '15000-19999': 4,\n",
    "    '20000-24999': 5,\n",
    "    '25000-29999': 6,\n",
    "    '30000-34999': 7,\n",
    "    '35000-39999': 8,\n",
    "    '40000-44999': 9,\n",
    "    '45000-49999': 10,\n",
    "    '50000-59999': 11,\n",
    "    '60000-74999': 12,\n",
    "    '75000-99999': 13,\n",
    "    '100000-149999': 14,\n",
    "    '150000-199999': 15,\n",
    "    '200000-249999': 16,\n",
    "    '250000+': 17\n",
    "}\n",
    "\n",
    "bases = {\n",
    "    'Men': 1,\n",
    "    'Women': 2\n",
    "}\n",
    "\n",
    "degree = {\n",
    "    '12th grade or less': 1,\n",
    "    'Graduated high school or equivalent': 2,\n",
    "    'Some college, no degree': 3,\n",
    "    'Associate degree': 4,\n",
    "    'Bachelor\\'s degree': 5,\n",
    "    'Post-graduate degree': 6,\n",
    "    'Some college, no degree': 7\n",
    "}\n",
    "\n",
    "state = {\n",
    "    'California':1,\n",
    "    'Texas':2, \n",
    "    'New York':3, \n",
    "    'Illinois':4,\n",
    "    'Florida':5,\n",
    "    'Pennsylvania':6, \n",
    "    'New Jersey':7, \n",
    "    'Georgia':8,\n",
    "    'North Carolina/South Carolina':9,\n",
    "    'Delaware/Maryland/Washington, D.C./West Virginia':10,\n",
    "    'Massachusetts':11,\n",
    "    'Virginia':12, \n",
    "    'New Mexico/Arizona/Utah/Nevada':13, \n",
    "    'Ohio':14,\n",
    "    'Montana/Idaho/Wyoming/Colorado':15, \n",
    "    'Arkansas/Louisiana/Oklahoma':16,\n",
    "    'Michigan':17, \n",
    "    'Washington/Oregon':18, \n",
    "    'Minnesota/Iowa':19, \n",
    "    'Indiana':20,\n",
    "    'Alabama/Mississippi':21, \n",
    "    'Tennessee':22, \n",
    "    'Rhode Island/Connecticut':23,\n",
    "    'Nebraska/Kansas':24, \n",
    "    'Wisconsin':25, \n",
    "    'Missouri':26,\n",
    "    'Maine/New Hampshire/Vermont':27, \n",
    "    'Kentucky':28, \n",
    "    'North Dakota/South Dakota':29\n",
    "}"
   ]
  },
  {
   "cell_type": "code",
   "execution_count": 56,
   "metadata": {},
   "outputs": [],
   "source": [
    "subdf = df[['Resp', 'Respondent - Age', 'Race', 'Bases', 'Respondent - Highest Degree Received', \\\n",
    "              'Income - IEI', 'State Group Codes']]\n",
    "\n",
    "subdf = subdf.replace({\"Respondent - Age\": age, \"Race\": race, \"Bases\": bases, \"Income - IEI\": income, \\\n",
    "                          \"Respondent - Highest Degree Received\": degree, 'State Group Codes': state})\n"
   ]
  },
  {
   "cell_type": "code",
   "execution_count": 58,
   "metadata": {},
   "outputs": [],
   "source": [
    "subdf.to_csv('numeric_values.csv', index=False)"
   ]
  },
  {
   "cell_type": "code",
   "execution_count": null,
   "metadata": {},
   "outputs": [],
   "source": []
  }
 ],
 "metadata": {
  "kernelspec": {
   "display_name": "Python 3",
   "language": "python",
   "name": "python3"
  },
  "language_info": {
   "codemirror_mode": {
    "name": "ipython",
    "version": 3
   },
   "file_extension": ".py",
   "mimetype": "text/x-python",
   "name": "python",
   "nbconvert_exporter": "python",
   "pygments_lexer": "ipython3",
   "version": "3.7.6"
  }
 },
 "nbformat": 4,
 "nbformat_minor": 4
}
